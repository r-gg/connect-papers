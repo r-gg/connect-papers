{
 "cells": [
  {
   "cell_type": "code",
   "execution_count": 2,
   "metadata": {
    "collapsed": true
   },
   "outputs": [],
   "source": [
    "from bs4 import BeautifulSoup\n",
    "from bs4.element import Tag\n",
    "from selenium import webdriver\n",
    "from selenium.common import NoSuchElementException\n",
    "from selenium.webdriver.common.by import By\n",
    "from webdriver_manager.chrome import ChromeDriverManager\n",
    "import pandas as pd\n",
    "import sys\n",
    "import time\n",
    "from typing import List\n",
    "import os\n",
    "import json"
   ]
  },
  {
   "cell_type": "markdown",
   "source": [],
   "metadata": {
    "collapsed": false
   }
  },
  {
   "cell_type": "code",
   "execution_count": 1,
   "outputs": [],
   "source": [
    "start_url = 'https://www.researchgate.net/'\n",
    "curr_paper = 'Co-locating Online Workload and Offline Workload in the Cloud: An Interference Analysis'\n",
    "is_first_run = False"
   ],
   "metadata": {
    "collapsed": false
   }
  },
  {
   "cell_type": "code",
   "execution_count": 138,
   "outputs": [],
   "source": [
    "# from requests_html import AsyncHTMLSession\n",
    "\n",
    "dr = driver = webdriver.Chrome()\n",
    "\n",
    "def get_refs_and_citations(paper_title, dr):\n",
    "    dr.get(start_url)\n",
    "\n",
    "    time.sleep(1)\n",
    "\n",
    "    search_bar = dr.find_element(By.XPATH, \"//input[@placeholder='Search publications']\")\n",
    "\n",
    "    search_bar.send_keys(paper_title)\n",
    "\n",
    "    time.sleep(0.5)\n",
    "\n",
    "    submit_button = dr.find_element(By.XPATH, \"//div[@class='index-search-field']//button//*[name()='svg']\")\n",
    "    submit_button.click()\n",
    "    time.sleep(1)\n",
    "\n",
    "    # Select first one in list\n",
    "    paper_tiles = dr.find_elements(By.XPATH, \"//div[contains(@class, 'nova-legacy-v-publication-item__title')]\")\n",
    "    if len(paper_tiles) == 0:\n",
    "        raise Exception(f\"paper {paper_title} not found\")\n",
    "\n",
    "    paper_tile = paper_tiles[0]\n",
    "\n",
    "    if paper_title.lower() != paper_tile.text.lower():\n",
    "        raise Exception(f\"Name mismatch in paper {paper_title}\")\n",
    "\n",
    "    paper_tile = paper_tile.find_elements(By.XPATH, \"*\")[0] # link\n",
    "    paper_tile.click()\n",
    "\n",
    "    time.sleep(1)\n",
    "\n",
    "    dr.execute_script(\"window.scrollTo(0, document.body.scrollHeight);\")\n",
    "\n",
    "    time.sleep(1)\n",
    "\n",
    "    citations_page = dr.page_source\n",
    "\n",
    "    time.sleep(1)\n",
    "\n",
    "    dr.execute_script(\"window.scrollTo(0, document.body.scrollHeight);\")\n",
    "\n",
    "    dr.execute_script(\"window.scrollTo(0, 0);\")\n",
    "\n",
    "    time.sleep(1)\n",
    "    references_tab = dr.find_element(By.XPATH, \"//div[contains(text(),'References')]\")\n",
    "    driver.execute_script(\"arguments[0].click();\", references_tab)\n",
    "\n",
    "    time.sleep(1)\n",
    "\n",
    "    references_page = dr.page_source\n",
    "    bs_references = BeautifulSoup(references_page,\"html.parser\")\n",
    "    bs_citations = BeautifulSoup(citations_page,\"html.parser\")\n",
    "    all_references = bs_references.find(id='references')\n",
    "    all_citations = bs_citations.find(id = 'citations')\n",
    "    # Lists of references and citations\n",
    "    refs = [ t.text for t in all_references.findAll(\"div\", {\"class\" : \"nova-legacy-v-publication-item__title\"})]\n",
    "    citations = [ t.text for t in all_citations.findAll(\"div\", {\"class\" : \"nova-legacy-v-publication-item__title\"})]\n",
    "    return {\"refs\": refs, \"citations\": citations}\n",
    "\n",
    "# For testing\n",
    "r_and_c = get_refs_and_citations(curr_paper, dr)\n",
    "\n",
    "dr.close()\n"
   ],
   "metadata": {
    "collapsed": false
   }
  },
  {
   "cell_type": "markdown",
   "source": [
    "## Checking the names"
   ],
   "metadata": {
    "collapsed": false
   }
  },
  {
   "cell_type": "code",
   "execution_count": 81,
   "outputs": [],
   "source": [
    "\n",
    "\n",
    "# assuming one is NOT on the home page\n",
    "# checks if the name in researchgate is same as title, depending on the result the title is added to ok_and_fixed or not_found\n",
    "def checkIfPaperHasSameTitle(title, dr, not_found : List, ok_and_fixed: List):\n",
    "    search_bar = dr.find_element(By.XPATH, \"//input[@placeholder='Search ResearchGate']\")\n",
    "    search_bar.clear()\n",
    "    search_bar.send_keys(title)\n",
    "    submit_button = dr.find_element(By.XPATH, \"//button[@type='submit']\")\n",
    "    submit_button.click()\n",
    "\n",
    "    paper_tiles = dr.find_elements(By.XPATH, \"//div[contains(@class, 'nova-legacy-v-publication-item__title')]\")\n",
    "    if len(paper_tiles) != 0:\n",
    "        paper_tile = paper_tiles[0]\n",
    "        if paper_tile.text.lower() != title.lower():\n",
    "            if paper_tile.text.lower().startswith(title.lower()[:10]) or paper_tile.text.lower().endswith(title.lower()[-5:]):\n",
    "                print(f\"Title OK with a slight mistmatch: {title}\")\n",
    "                ok_and_fixed.append(paper_tile.text)\n",
    "            else:\n",
    "                print(f\"Title mismatch: in file: {title}, in ResearchGate: {paper_tile.text}\")\n",
    "                not_found.append(title)\n",
    "        else:\n",
    "            print(f\"Title OK: {title}\")\n",
    "            ok_and_fixed.append(paper_tile.text)\n",
    "    else:\n",
    "        print(f\"paper: {title} NOT FOUND\")\n",
    "        not_found.append(title)\n",
    "\n",
    "\n",
    "    time.sleep(1)\n"
   ],
   "metadata": {
    "collapsed": false
   }
  },
  {
   "cell_type": "code",
   "execution_count": 3,
   "outputs": [],
   "source": [
    "# checking if all papers are present on ResearchGate (with names)\n",
    "if is_first_run:\n",
    "    with open(\"papers.txt\", \"r\") as papers_file:\n",
    "        lines = papers_file.readlines()\n",
    "\n",
    "        not_found = []\n",
    "        ok_and_fixed = []\n",
    "\n",
    "        # first\n",
    "        title = lines[0].strip()\n",
    "\n",
    "        dr = driver = webdriver.Chrome()\n",
    "\n",
    "        dr.get(start_url)\n",
    "\n",
    "        time.sleep(0.5)\n",
    "\n",
    "        search_bar = dr.find_element(By.XPATH, \"//input[@placeholder='Search publications']\")\n",
    "\n",
    "        search_bar.send_keys(title)\n",
    "\n",
    "        time.sleep(0.5)\n",
    "\n",
    "        submit_button = dr.find_element(By.XPATH, \"//div[@class='index-search-field']//button//*[name()='svg']\")\n",
    "        submit_button.click()\n",
    "        time.sleep(0.5)\n",
    "\n",
    "        # Select first one in list\n",
    "        paper_tiles = dr.find_elements(By.XPATH, \"//div[contains(@class, 'nova-legacy-v-publication-item__title')]\")\n",
    "        if len(paper_tiles) != 0:\n",
    "            paper_tile = paper_tiles[0]\n",
    "            if paper_tile.text.lower() != title.lower():\n",
    "                if paper_tile.text.lower().startswith(title.lower()[:10]) or paper_tile.text.lower().endswith(title.lower()[-5:]):\n",
    "                    print(f\"Title OK with a slight mistmatch: {title}\")\n",
    "                    ok_and_fixed.append(paper_tile.text)\n",
    "                else:\n",
    "                    print(f\"Title mismatch: in file: {title}, in ResearchGate: {paper_tile.text}\")\n",
    "                    not_found.append(title)\n",
    "            else:\n",
    "                print(f\"Title OK: {title}\")\n",
    "                ok_and_fixed.append(paper_tile.text)\n",
    "        else:\n",
    "            print(f\"paper: {title} NOT FOUND\")\n",
    "            not_found.append(title)\n",
    "\n",
    "\n",
    "        # rest\n",
    "        for line in lines[1:]:\n",
    "            stripped = line.strip()\n",
    "            checkIfPaperHasSameTitle(stripped, dr, not_found, ok_and_fixed)\n",
    "\n",
    "        dr.close()"
   ],
   "metadata": {
    "collapsed": false
   }
  },
  {
   "cell_type": "markdown",
   "source": [
    "## Reload important vars\n"
   ],
   "metadata": {
    "collapsed": false
   }
  },
  {
   "cell_type": "code",
   "execution_count": 4,
   "outputs": [],
   "source": [
    "if not is_first_run:\n",
    "    with open('saved_vars.json', 'r') as saved_vars:\n",
    "        text = saved_vars.read()\n",
    "        vars_dict = json.loads(text)\n",
    "        edges = vars_dict['edges']\n",
    "        ok_and_fixed = vars_dict['ok_and_fixed']\n",
    "        papers_dict_list = vars_dict['papers_dict_list']\n"
   ],
   "metadata": {
    "collapsed": false
   }
  },
  {
   "cell_type": "markdown",
   "source": [
    "Using the one with corrected names.\n",
    "\n",
    "\n",
    "## Visualizing"
   ],
   "metadata": {
    "collapsed": false
   }
  },
  {
   "cell_type": "code",
   "execution_count": 26,
   "outputs": [],
   "source": [
    "from pyvis.network import Network\n",
    "# edges mean a -> references -> b\n",
    "net = Network(directed=True)#, select_menu=True, filter_menu=True)"
   ],
   "metadata": {
    "collapsed": false
   }
  },
  {
   "cell_type": "code",
   "execution_count": 4,
   "outputs": [],
   "source": [
    "papers_dict_list = [ {\"node_id\" : p[0], \"title\" : p[1]} for p in  enumerate(ok_and_fixed) ]\n",
    "\n",
    "def find_node_id(title):\n",
    "    res_pairs = [ p for p in papers_dict_list if p['title'] == title ]\n",
    "    if len(res_pairs) == 0:\n",
    "        return -1\n",
    "    else:\n",
    "        return res_pairs[0]['node_id']\n"
   ],
   "metadata": {
    "collapsed": false
   }
  },
  {
   "cell_type": "code",
   "execution_count": 27,
   "outputs": [],
   "source": [
    "for paper_dict in papers_dict_list:\n",
    "    nodeId = paper_dict['node_id']\n",
    "    title = paper_dict['title']\n",
    "    net.add_node(nodeId, title)"
   ],
   "metadata": {
    "collapsed": false
   }
  },
  {
   "cell_type": "code",
   "execution_count": 8,
   "outputs": [
    {
     "data": {
      "text/plain": "[{'from': 32, 'to': 23, 'arrows': 'to'},\n {'from': 30, 'to': 32, 'arrows': 'to'},\n {'from': 0, 'to': 22, 'arrows': 'to'},\n {'from': 0, 'to': 15, 'arrows': 'to'},\n {'from': 0, 'to': 27, 'arrows': 'to'},\n {'from': 1, 'to': 0, 'arrows': 'to'},\n {'from': 1, 'to': 5, 'arrows': 'to'},\n {'from': 1, 'to': 9, 'arrows': 'to'},\n {'from': 1, 'to': 22, 'arrows': 'to'},\n {'from': 2, 'to': 1, 'arrows': 'to'},\n {'from': 2, 'to': 24, 'arrows': 'to'},\n {'from': 2, 'to': 5, 'arrows': 'to'},\n {'from': 2, 'to': 9, 'arrows': 'to'},\n {'from': 2, 'to': 28, 'arrows': 'to'},\n {'from': 2, 'to': 3, 'arrows': 'to'},\n {'from': 3, 'to': 29, 'arrows': 'to'},\n {'from': 3, 'to': 4, 'arrows': 'to'},\n {'from': 30, 'to': 3, 'arrows': 'to'},\n {'from': 7, 'to': 3, 'arrows': 'to'},\n {'from': 28, 'to': 4, 'arrows': 'to'},\n {'from': 21, 'to': 4, 'arrows': 'to'},\n {'from': 5, 'to': 9, 'arrows': 'to'},\n {'from': 5, 'to': 28, 'arrows': 'to'},\n {'from': 6, 'to': 5, 'arrows': 'to'},\n {'from': 6, 'to': 9, 'arrows': 'to'},\n {'from': 8, 'to': 14, 'arrows': 'to'},\n {'from': 8, 'to': 16, 'arrows': 'to'},\n {'from': 8, 'to': 15, 'arrows': 'to'},\n {'from': 21, 'to': 8, 'arrows': 'to'},\n {'from': 9, 'to': 22, 'arrows': 'to'},\n {'from': 21, 'to': 9, 'arrows': 'to'},\n {'from': 11, 'to': 12, 'arrows': 'to'},\n {'from': 12, 'to': 19, 'arrows': 'to'},\n {'from': 13, 'to': 14, 'arrows': 'to'},\n {'from': 13, 'to': 16, 'arrows': 'to'},\n {'from': 31, 'to': 14, 'arrows': 'to'},\n {'from': 19, 'to': 14, 'arrows': 'to'},\n {'from': 18, 'to': 15, 'arrows': 'to'},\n {'from': 31, 'to': 15, 'arrows': 'to'},\n {'from': 16, 'to': 14, 'arrows': 'to'},\n {'from': 16, 'to': 15, 'arrows': 'to'},\n {'from': 31, 'to': 16, 'arrows': 'to'},\n {'from': 18, 'to': 19, 'arrows': 'to'},\n {'from': 19, 'to': 15, 'arrows': 'to'},\n {'from': 31, 'to': 19, 'arrows': 'to'},\n {'from': 20, 'to': 19, 'arrows': 'to'},\n {'from': 30, 'to': 19, 'arrows': 'to'},\n {'from': 20, 'to': 15, 'arrows': 'to'},\n {'from': 21, 'to': 26, 'arrows': 'to'},\n {'from': 24, 'to': 22, 'arrows': 'to'},\n {'from': 25, 'to': 26, 'arrows': 'to'},\n {'from': 26, 'to': 29, 'arrows': 'to'},\n {'from': 27, 'to': 26, 'arrows': 'to'},\n {'from': 30, 'to': 15, 'arrows': 'to'}]"
     },
     "execution_count": 8,
     "metadata": {},
     "output_type": "execute_result"
    }
   ],
   "source": [
    "edges"
   ],
   "metadata": {
    "collapsed": false
   }
  },
  {
   "cell_type": "code",
   "execution_count": 147,
   "outputs": [
    {
     "name": "stdout",
     "output_type": "stream",
     "text": [
      "Getting refs and citations for ServerMore: Opportunistic Execution of Serverless Functions in the Cloud\n",
      "Found new edge! ServerMore: Opportunistic Execution of Serverless Functions in the Cloud ----> FnSched: An Efficient Scheduler for Serverless Functions\n",
      "Found new edge! ServerMore: Opportunistic Execution of Serverless Functions in the Cloud ----> PARTIES: QoS-Aware Resource Partitioning for Multiple Interactive Services\n",
      "Found new edge! ServerMore: Opportunistic Execution of Serverless Functions in the Cloud ----> PerfIso: Performance Isolation for Commercial Latency-sensitive Services\n",
      "Found new edge! Locality-aware Load-Balancing For Serverless Clusters ----> ServerMore: Opportunistic Execution of Serverless Functions in the Cloud\n",
      "Getting refs and citations for Locality-aware Load-Balancing For Serverless Clusters\n",
      "Found new edge! Locality-aware Load-Balancing For Serverless Clusters ----> FaaSRank: Learning to Schedule Functions in Serverless Platforms\n",
      "Found new edge! Locality-aware Load-Balancing For Serverless Clusters ----> ServerMore: Opportunistic Execution of Serverless Functions in the Cloud\n",
      "Found new edge! Locality-aware Load-Balancing For Serverless Clusters ----> ENSURE: Efficient Scheduling and Autonomous Resource Management in Serverless Environments\n",
      "Found new edge! Locality-aware Load-Balancing For Serverless Clusters ----> FnSched: An Efficient Scheduler for Serverless Functions\n",
      "Found new edge! Deep reinforcement learning for application scheduling in resource-constrained, multi-tenant serverless computing environments ----> Locality-aware Load-Balancing For Serverless Clusters\n",
      "Getting refs and citations for Deep reinforcement learning for application scheduling in resource-constrained, multi-tenant serverless computing environments\n",
      "Found new edge! Deep reinforcement learning for application scheduling in resource-constrained, multi-tenant serverless computing environments ----> Owl: performance-aware scheduling for resource-efficient function-as-a-service cloud\n",
      "Found new edge! Deep reinforcement learning for application scheduling in resource-constrained, multi-tenant serverless computing environments ----> Locality-aware Load-Balancing For Serverless Clusters\n",
      "Found new edge! Deep reinforcement learning for application scheduling in resource-constrained, multi-tenant serverless computing environments ----> FaaSRank: Learning to Schedule Functions in Serverless Platforms\n",
      "Found new edge! Deep reinforcement learning for application scheduling in resource-constrained, multi-tenant serverless computing environments ----> ENSURE: Efficient Scheduling and Autonomous Resource Management in Serverless Environments\n",
      "Found new edge! Deep reinforcement learning for application scheduling in resource-constrained, multi-tenant serverless computing environments ----> Optimizing Serverless Computing: Introducing an Adaptive Function Placement Algorithm\n",
      "Found new edge! Deep reinforcement learning for application scheduling in resource-constrained, multi-tenant serverless computing environments ----> Automated Fine-Grained CPU Cap Control in Serverless Computing Platform\n",
      "Getting refs and citations for Automated Fine-Grained CPU Cap Control in Serverless Computing Platform\n",
      "Found new edge! Automated Fine-Grained CPU Cap Control in Serverless Computing Platform ----> Automated control of multiple virtualized resources\n",
      "Found new edge! Automated Fine-Grained CPU Cap Control in Serverless Computing Platform ----> A Model Predictive Controller for Managing QoS Enforcements and Microarchitecture-Level Interferences in a Lambda Platform\n",
      "Found new edge! Deep reinforcement learning for application scheduling in resource-constrained, multi-tenant serverless computing environments ----> Automated Fine-Grained CPU Cap Control in Serverless Computing Platform\n",
      "Found new edge! Autothrottle: Satisfying Network Performance Requirements for Containers ----> Automated Fine-Grained CPU Cap Control in Serverless Computing Platform\n",
      "Found new edge! Data-Intensive Workload Consolidation in Serverless (Lambda/FaaS) Platforms ----> Automated Fine-Grained CPU Cap Control in Serverless Computing Platform\n",
      "Getting refs and citations for A Model Predictive Controller for Managing QoS Enforcements and Microarchitecture-Level Interferences in a Lambda Platform\n",
      "Found new edge! Optimizing Serverless Computing: Introducing an Adaptive Function Placement Algorithm ----> A Model Predictive Controller for Managing QoS Enforcements and Microarchitecture-Level Interferences in a Lambda Platform\n",
      "Found new edge! A Case of Multi-Resource Fairness for Serverless Workflows (Work In Progress Paper) ----> A Model Predictive Controller for Managing QoS Enforcements and Microarchitecture-Level Interferences in a Lambda Platform\n",
      "Found new edge! Automated Fine-Grained CPU Cap Control in Serverless Computing Platform ----> A Model Predictive Controller for Managing QoS Enforcements and Microarchitecture-Level Interferences in a Lambda Platform\n",
      "Getting refs and citations for FaaSRank: Learning to Schedule Functions in Serverless Platforms\n",
      "Found new edge! FaaSRank: Learning to Schedule Functions in Serverless Platforms ----> ENSURE: Efficient Scheduling and Autonomous Resource Management in Serverless Environments\n",
      "Found new edge! FaaSRank: Learning to Schedule Functions in Serverless Platforms ----> Optimizing Serverless Computing: Introducing an Adaptive Function Placement Algorithm\n",
      "Found new edge! SIMPPO: A scalable and incremental online learning framework for serverless resource management ----> FaaSRank: Learning to Schedule Functions in Serverless Platforms\n",
      "Found new edge! Deep reinforcement learning for application scheduling in resource-constrained, multi-tenant serverless computing environments ----> FaaSRank: Learning to Schedule Functions in Serverless Platforms\n",
      "Found new edge! Locality-aware Load-Balancing For Serverless Clusters ----> FaaSRank: Learning to Schedule Functions in Serverless Platforms\n",
      "Getting refs and citations for SIMPPO: A scalable and incremental online learning framework for serverless resource management\n",
      "Found new edge! SIMPPO: A scalable and incremental online learning framework for serverless resource management ----> FaaSRank: Learning to Schedule Functions in Serverless Platforms\n",
      "Found new edge! SIMPPO: A scalable and incremental online learning framework for serverless resource management ----> ENSURE: Efficient Scheduling and Autonomous Resource Management in Serverless Environments\n",
      "Getting refs and citations for Data-Intensive Workload Consolidation in Serverless (Lambda/FaaS) Platforms\n",
      "Found new edge! Data-Intensive Workload Consolidation in Serverless (Lambda/FaaS) Platforms ----> Automated Fine-Grained CPU Cap Control in Serverless Computing Platform\n",
      "Getting refs and citations for Understanding, predicting and scheduling serverless workloads under partial interference\n",
      "Found new edge! Understanding, predicting and scheduling serverless workloads under partial interference ----> CoPart: Coordinated Partitioning of Last-Level Cache and Memory Bandwidth for Fairness-Aware Workload Consolidation on Commodity Servers\n",
      "Found new edge! Understanding, predicting and scheduling serverless workloads under partial interference ----> CLITE: Efficient and QoS-Aware Co-Location of Multiple Latency-Critical Jobs for Warehouse Scale Computers\n",
      "Found new edge! Understanding, predicting and scheduling serverless workloads under partial interference ----> PARTIES: QoS-Aware Resource Partitioning for Multiple Interactive Services\n",
      "Found new edge! A Case of Multi-Resource Fairness for Serverless Workflows (Work In Progress Paper) ----> Understanding, predicting and scheduling serverless workloads under partial interference\n",
      "Getting refs and citations for ENSURE: Efficient Scheduling and Autonomous Resource Management in Serverless Environments\n",
      "Found new edge! ENSURE: Efficient Scheduling and Autonomous Resource Management in Serverless Environments ----> FnSched: An Efficient Scheduler for Serverless Functions\n",
      "Found new edge! SIMPPO: A scalable and incremental online learning framework for serverless resource management ----> ENSURE: Efficient Scheduling and Autonomous Resource Management in Serverless Environments\n",
      "Found new edge! Deep reinforcement learning for application scheduling in resource-constrained, multi-tenant serverless computing environments ----> ENSURE: Efficient Scheduling and Autonomous Resource Management in Serverless Environments\n",
      "Found new edge! A Case of Multi-Resource Fairness for Serverless Workflows (Work In Progress Paper) ----> ENSURE: Efficient Scheduling and Autonomous Resource Management in Serverless Environments\n",
      "Found new edge! Locality-aware Load-Balancing For Serverless Clusters ----> ENSURE: Efficient Scheduling and Autonomous Resource Management in Serverless Environments\n",
      "Found new edge! FaaSRank: Learning to Schedule Functions in Serverless Platforms ----> ENSURE: Efficient Scheduling and Autonomous Resource Management in Serverless Environments\n",
      "Getting refs and citations for Interference Analysis of Co-Located Container Workloads: A Perspective from Hardware Performance Counters\n",
      "Getting refs and citations for BeeFlow: Behavior Tree-based Serverless Workflow Modeling and Scheduling for Resource-Constrained Edge Clusters\n",
      "Found new edge! BeeFlow: Behavior Tree-based Serverless Workflow Modeling and Scheduling for Resource-Constrained Edge Clusters ----> FaaSFlow: enable efficient workflow execution for function-as-a-service\n",
      "Getting refs and citations for FaaSFlow: enable efficient workflow execution for function-as-a-service\n",
      "Found new edge! FaaSFlow: enable efficient workflow execution for function-as-a-service ----> Alita: Comprehensive Performance Isolation through Bias Resource Management for Public Clouds\n",
      "Found new edge! BeeFlow: Behavior Tree-based Serverless Workflow Modeling and Scheduling for Resource-Constrained Edge Clusters ----> FaaSFlow: enable efficient workflow execution for function-as-a-service\n",
      "Getting refs and citations for SLO beyond the Hardware Isolation Limits\n",
      "Found new edge! SLO beyond the Hardware Isolation Limits ----> CoPart: Coordinated Partitioning of Last-Level Cache and Memory Bandwidth for Fairness-Aware Workload Consolidation on Commodity Servers\n",
      "Found new edge! SLO beyond the Hardware Isolation Limits ----> CLITE: Efficient and QoS-Aware Co-Location of Multiple Latency-Critical Jobs for Warehouse Scale Computers\n",
      "Getting refs and citations for CoPart: Coordinated Partitioning of Last-Level Cache and Memory Bandwidth for Fairness-Aware Workload Consolidation on Commodity Servers\n",
      "Found new edge! SLO beyond the Hardware Isolation Limits ----> CoPart: Coordinated Partitioning of Last-Level Cache and Memory Bandwidth for Fairness-Aware Workload Consolidation on Commodity Servers\n",
      "Found new edge! Ah-Q: Quantifying and Handling the Interference within a Datacenter from a System Perspective ----> CoPart: Coordinated Partitioning of Last-Level Cache and Memory Bandwidth for Fairness-Aware Workload Consolidation on Commodity Servers\n",
      "Found new edge! Understanding, predicting and scheduling serverless workloads under partial interference ----> CoPart: Coordinated Partitioning of Last-Level Cache and Memory Bandwidth for Fairness-Aware Workload Consolidation on Commodity Servers\n",
      "Found new edge! Alita: Comprehensive Performance Isolation through Bias Resource Management for Public Clouds ----> CoPart: Coordinated Partitioning of Last-Level Cache and Memory Bandwidth for Fairness-Aware Workload Consolidation on Commodity Servers\n",
      "Getting refs and citations for PARTIES: QoS-Aware Resource Partitioning for Multiple Interactive Services\n",
      "Found new edge! Alioth: A Machine Learning Based Interference-Aware Performance Monitor for Multi-Tenancy Applications in Public Cloud ----> PARTIES: QoS-Aware Resource Partitioning for Multiple Interactive Services\n",
      "Found new edge! Alioth: A Machine Learning Based Interference-Aware Performance Monitor for Multi-Tenancy Applications in Public Cloud ----> PARTIES: QoS-Aware Resource Partitioning for Multiple Interactive Services\n",
      "Found new edge! Ah-Q: Quantifying and Handling the Interference within a Datacenter from a System Perspective ----> PARTIES: QoS-Aware Resource Partitioning for Multiple Interactive Services\n",
      "Getting refs and citations for CLITE: Efficient and QoS-Aware Co-Location of Multiple Latency-Critical Jobs for Warehouse Scale Computers\n",
      "Found new edge! CLITE: Efficient and QoS-Aware Co-Location of Multiple Latency-Critical Jobs for Warehouse Scale Computers ----> CoPart: Coordinated Partitioning of Last-Level Cache and Memory Bandwidth for Fairness-Aware Workload Consolidation on Commodity Servers\n",
      "Found new edge! CLITE: Efficient and QoS-Aware Co-Location of Multiple Latency-Critical Jobs for Warehouse Scale Computers ----> PARTIES: QoS-Aware Resource Partitioning for Multiple Interactive Services\n",
      "Found new edge! Ah-Q: Quantifying and Handling the Interference within a Datacenter from a System Perspective ----> CLITE: Efficient and QoS-Aware Co-Location of Multiple Latency-Critical Jobs for Warehouse Scale Computers\n",
      "Getting refs and citations for Supporting Multi-Cloud in Serverless Computing\n",
      "Getting refs and citations for Alioth: A Machine Learning Based Interference-Aware Performance Monitor for Multi-Tenancy Applications in Public Cloud\n",
      "Found new edge! Alioth: A Machine Learning Based Interference-Aware Performance Monitor for Multi-Tenancy Applications in Public Cloud ----> Alita: Comprehensive Performance Isolation through Bias Resource Management for Public Clouds\n",
      "Found new edge! Alioth: A Machine Learning Based Interference-Aware Performance Monitor for Multi-Tenancy Applications in Public Cloud ----> PARTIES: QoS-Aware Resource Partitioning for Multiple Interactive Services\n",
      "Getting refs and citations for Alita: Comprehensive Performance Isolation through Bias Resource Management for Public Clouds\n",
      "Found new edge! Alita: Comprehensive Performance Isolation through Bias Resource Management for Public Clouds ----> CoPart: Coordinated Partitioning of Last-Level Cache and Memory Bandwidth for Fairness-Aware Workload Consolidation on Commodity Servers\n",
      "Found new edge! Alita: Comprehensive Performance Isolation through Bias Resource Management for Public Clouds ----> PARTIES: QoS-Aware Resource Partitioning for Multiple Interactive Services\n",
      "Found new edge! Alioth: A Machine Learning Based Interference-Aware Performance Monitor for Multi-Tenancy Applications in Public Cloud ----> Alita: Comprehensive Performance Isolation through Bias Resource Management for Public Clouds\n",
      "Found new edge! Alioth: A Machine Learning Based Interference-Aware Performance Monitor for Multi-Tenancy Applications in Public Cloud ----> Alita: Comprehensive Performance Isolation through Bias Resource Management for Public Clouds\n",
      "Found new edge! Ah-Q: Quantifying and Handling the Interference within a Datacenter from a System Perspective ----> Alita: Comprehensive Performance Isolation through Bias Resource Management for Public Clouds\n",
      "Found new edge! Kronos: towards bus contention-aware job scheduling in warehouse scale computers ----> Alita: Comprehensive Performance Isolation through Bias Resource Management for Public Clouds\n",
      "Found new edge! Autothrottle: Satisfying Network Performance Requirements for Containers ----> Alita: Comprehensive Performance Isolation through Bias Resource Management for Public Clouds\n",
      "Found new edge! FaaSFlow: enable efficient workflow execution for function-as-a-service ----> Alita: Comprehensive Performance Isolation through Bias Resource Management for Public Clouds\n",
      "Getting refs and citations for Kronos: towards bus contention-aware job scheduling in warehouse scale computers\n",
      "Found new edge! Kronos: towards bus contention-aware job scheduling in warehouse scale computers ----> Alita: Comprehensive Performance Isolation through Bias Resource Management for Public Clouds\n",
      "Found new edge! Kronos: towards bus contention-aware job scheduling in warehouse scale computers ----> PARTIES: QoS-Aware Resource Partitioning for Multiple Interactive Services\n",
      "Getting refs and citations for A Case of Multi-Resource Fairness for Serverless Workflows (Work In Progress Paper)\n",
      "Found new edge! A Case of Multi-Resource Fairness for Serverless Workflows (Work In Progress Paper) ----> Understanding, predicting and scheduling serverless workloads under partial interference\n",
      "Found new edge! A Case of Multi-Resource Fairness for Serverless Workflows (Work In Progress Paper) ----> ENSURE: Efficient Scheduling and Autonomous Resource Management in Serverless Environments\n",
      "Found new edge! A Case of Multi-Resource Fairness for Serverless Workflows (Work In Progress Paper) ----> A Model Predictive Controller for Managing QoS Enforcements and Microarchitecture-Level Interferences in a Lambda Platform\n",
      "Found new edge! A Case of Multi-Resource Fairness for Serverless Workflows (Work In Progress Paper) ----> Performance isolation and fairness for multi-tenant cloud storage\n",
      "Getting refs and citations for FnSched: An Efficient Scheduler for Serverless Functions\n",
      "Found new edge! Owl: performance-aware scheduling for resource-efficient function-as-a-service cloud ----> FnSched: An Efficient Scheduler for Serverless Functions\n",
      "Found new edge! Locality-aware Load-Balancing For Serverless Clusters ----> FnSched: An Efficient Scheduler for Serverless Functions\n",
      "Found new edge! ServerMore: Opportunistic Execution of Serverless Functions in the Cloud ----> FnSched: An Efficient Scheduler for Serverless Functions\n",
      "Getting refs and citations for EyeQ: practical network performance isolation for the multi-tenant cloud\n",
      "Getting refs and citations for Owl: performance-aware scheduling for resource-efficient function-as-a-service cloud\n",
      "Found new edge! Owl: performance-aware scheduling for resource-efficient function-as-a-service cloud ----> FnSched: An Efficient Scheduler for Serverless Functions\n",
      "Found new edge! Deep reinforcement learning for application scheduling in resource-constrained, multi-tenant serverless computing environments ----> Owl: performance-aware scheduling for resource-efficient function-as-a-service cloud\n",
      "Getting refs and citations for Towards performance isolation in multi-tenant SaaS applications\n",
      "Found new edge! Towards performance isolation in multi-tenant SaaS applications ----> Performance isolation and fairness for multi-tenant cloud storage\n",
      "Getting refs and citations for Performance isolation and fairness for multi-tenant cloud storage\n",
      "Found new edge! Performance isolation and fairness for multi-tenant cloud storage ----> Automated control of multiple virtualized resources\n",
      "Found new edge! PerfIso: Performance Isolation for Commercial Latency-sensitive Services ----> Performance isolation and fairness for multi-tenant cloud storage\n",
      "Getting refs and citations for PerfIso: Performance Isolation for Commercial Latency-sensitive Services\n",
      "Found new edge! PerfIso: Performance Isolation for Commercial Latency-sensitive Services ----> Performance isolation and fairness for multi-tenant cloud storage\n",
      "Found new edge! ServerMore: Opportunistic Execution of Serverless Functions in the Cloud ----> PerfIso: Performance Isolation for Commercial Latency-sensitive Services\n",
      "Getting refs and citations for Optimizing Serverless Computing: Introducing an Adaptive Function Placement Algorithm\n",
      "Found new edge! Optimizing Serverless Computing: Introducing an Adaptive Function Placement Algorithm ----> A Model Predictive Controller for Managing QoS Enforcements and Microarchitecture-Level Interferences in a Lambda Platform\n",
      "Found new edge! Deep reinforcement learning for application scheduling in resource-constrained, multi-tenant serverless computing environments ----> Optimizing Serverless Computing: Introducing an Adaptive Function Placement Algorithm\n",
      "Found new edge! FaaSRank: Learning to Schedule Functions in Serverless Platforms ----> Optimizing Serverless Computing: Introducing an Adaptive Function Placement Algorithm\n",
      "Getting refs and citations for Automated control of multiple virtualized resources\n",
      "Getting refs and citations for Autothrottle: Satisfying Network Performance Requirements for Containers\n",
      "Found new edge! Autothrottle: Satisfying Network Performance Requirements for Containers ----> Alita: Comprehensive Performance Isolation through Bias Resource Management for Public Clouds\n",
      "Found new edge! Autothrottle: Satisfying Network Performance Requirements for Containers ----> Automated Fine-Grained CPU Cap Control in Serverless Computing Platform\n",
      "Found new edge! Autothrottle: Satisfying Network Performance Requirements for Containers ----> PARTIES: QoS-Aware Resource Partitioning for Multiple Interactive Services\n",
      "Found new edge! Autothrottle: Satisfying Network Performance Requirements for Containers ----> EyeQ: Practical network performance isolation at the edge\n",
      "Getting refs and citations for Ah-Q: Quantifying and Handling the Interference within a Datacenter from a System Perspective\n",
      "Found new edge! Ah-Q: Quantifying and Handling the Interference within a Datacenter from a System Perspective ----> Alita: Comprehensive Performance Isolation through Bias Resource Management for Public Clouds\n",
      "Found new edge! Ah-Q: Quantifying and Handling the Interference within a Datacenter from a System Perspective ----> CoPart: Coordinated Partitioning of Last-Level Cache and Memory Bandwidth for Fairness-Aware Workload Consolidation on Commodity Servers\n",
      "Found new edge! Ah-Q: Quantifying and Handling the Interference within a Datacenter from a System Perspective ----> CLITE: Efficient and QoS-Aware Co-Location of Multiple Latency-Critical Jobs for Warehouse Scale Computers\n",
      "Found new edge! Ah-Q: Quantifying and Handling the Interference within a Datacenter from a System Perspective ----> PARTIES: QoS-Aware Resource Partitioning for Multiple Interactive Services\n",
      "Getting refs and citations for EyeQ: Practical network performance isolation at the edge\n",
      "Found new edge! EyeQ: Practical network performance isolation at the edge ----> EyeQ: practical network performance isolation for the multi-tenant cloud\n",
      "Found new edge! Autothrottle: Satisfying Network Performance Requirements for Containers ----> EyeQ: Practical network performance isolation at the edge\n"
     ]
    }
   ],
   "source": [
    "if is_first_run:\n",
    "    dr = driver = webdriver.Chrome()\n",
    "    edges = []\n",
    "    for paper_dict in papers_dict_list:\n",
    "        title = paper_dict['title']\n",
    "        src = find_node_id(title)\n",
    "        print(f\"Getting refs and citations for {title}\")\n",
    "        r_and_c = get_refs_and_citations(title, dr)\n",
    "        for ref in r_and_c['refs']:\n",
    "            if ref in ok_and_fixed:\n",
    "                print(f\"Found new edge! {title} ----> {ref}\")\n",
    "                dest = find_node_id(ref)\n",
    "                edges.append({'from' : src, 'to': dest})\n",
    "        for citation in r_and_c['citations']:\n",
    "            if citation in ok_and_fixed:\n",
    "                print(f\"Found new edge! {citation} ----> {title}\")\n",
    "                src_citation = find_node_id(citation)\n",
    "                edges.append({'from': src_citation, 'to': src})\n",
    "    dr.close()\n",
    "\n",
    "    # Save variables\n",
    "    to_save = {}\n",
    "    to_save['edges'] = edges\n",
    "    to_save['ok_and_fixed'] = ok_and_fixed\n",
    "    to_save['papers_dict_list'] = papers_dict_list\n",
    "    with open('saved_vars.json', \"w\") as f:\n",
    "        f.write(json.dumps(to_save))\n"
   ],
   "metadata": {
    "collapsed": false
   }
  },
  {
   "cell_type": "markdown",
   "source": [
    "#### Removing duplicates from edges."
   ],
   "metadata": {
    "collapsed": false
   }
  },
  {
   "cell_type": "code",
   "execution_count": 5,
   "outputs": [],
   "source": [
    "res = [i for n, i in enumerate(edges) if i not in edges[:n]]\n",
    "edges = res"
   ],
   "metadata": {
    "collapsed": false
   }
  },
  {
   "cell_type": "code",
   "execution_count": 28,
   "outputs": [],
   "source": [
    "for edge in edges:\n",
    "    net.add_edge(edge['from'], edge['to'])"
   ],
   "metadata": {
    "collapsed": false
   }
  },
  {
   "cell_type": "code",
   "execution_count": 29,
   "outputs": [
    {
     "name": "stdout",
     "output_type": "stream",
     "text": [
      "test.html\n"
     ]
    }
   ],
   "source": [
    "net.toggle_physics(True)\n",
    "net.show_buttons(filter_=['physics'])\n",
    "net.show(\"test.html\", notebook=False)"
   ],
   "metadata": {
    "collapsed": false
   }
  },
  {
   "cell_type": "code",
   "execution_count": 30,
   "outputs": [],
   "source": [
    "net.save_graph(\"graph.html\")"
   ],
   "metadata": {
    "collapsed": false
   }
  },
  {
   "cell_type": "markdown",
   "source": [
    "Determining the in degree (nr of references)"
   ],
   "metadata": {
    "collapsed": false
   }
  },
  {
   "cell_type": "code",
   "execution_count": 17,
   "outputs": [
    {
     "data": {
      "text/plain": "                                                count  to\nto                                                       \n15                                                  8  15\n9                                                   5   9\n14                                                  5  14\n19                                                  5  19\n22                                                  4  22\n16                                                  3  16\n3                                                   3   3\n4                                                   3   4\n5                                                   3   5\n26                                                  3  26\n29                                                  2  29\n28                                                  2  28\n24                                                  1  24\n27                                                  1  27\n0                                                   1   0\n23                                                  1  23\n1                                                   1   1\n12                                                  1  12\n8                                                   1   8\n32                                                  1  32\nto  Int64Index([15, 9, 14, 19, 22, 16, 3, 4, 5, 26...  to",
      "text/html": "<div>\n<style scoped>\n    .dataframe tbody tr th:only-of-type {\n        vertical-align: middle;\n    }\n\n    .dataframe tbody tr th {\n        vertical-align: top;\n    }\n\n    .dataframe thead th {\n        text-align: right;\n    }\n</style>\n<table border=\"1\" class=\"dataframe\">\n  <thead>\n    <tr style=\"text-align: right;\">\n      <th></th>\n      <th>count</th>\n      <th>to</th>\n    </tr>\n    <tr>\n      <th>to</th>\n      <th></th>\n      <th></th>\n    </tr>\n  </thead>\n  <tbody>\n    <tr>\n      <th>15</th>\n      <td>8</td>\n      <td>15</td>\n    </tr>\n    <tr>\n      <th>9</th>\n      <td>5</td>\n      <td>9</td>\n    </tr>\n    <tr>\n      <th>14</th>\n      <td>5</td>\n      <td>14</td>\n    </tr>\n    <tr>\n      <th>19</th>\n      <td>5</td>\n      <td>19</td>\n    </tr>\n    <tr>\n      <th>22</th>\n      <td>4</td>\n      <td>22</td>\n    </tr>\n    <tr>\n      <th>16</th>\n      <td>3</td>\n      <td>16</td>\n    </tr>\n    <tr>\n      <th>3</th>\n      <td>3</td>\n      <td>3</td>\n    </tr>\n    <tr>\n      <th>4</th>\n      <td>3</td>\n      <td>4</td>\n    </tr>\n    <tr>\n      <th>5</th>\n      <td>3</td>\n      <td>5</td>\n    </tr>\n    <tr>\n      <th>26</th>\n      <td>3</td>\n      <td>26</td>\n    </tr>\n    <tr>\n      <th>29</th>\n      <td>2</td>\n      <td>29</td>\n    </tr>\n    <tr>\n      <th>28</th>\n      <td>2</td>\n      <td>28</td>\n    </tr>\n    <tr>\n      <th>24</th>\n      <td>1</td>\n      <td>24</td>\n    </tr>\n    <tr>\n      <th>27</th>\n      <td>1</td>\n      <td>27</td>\n    </tr>\n    <tr>\n      <th>0</th>\n      <td>1</td>\n      <td>0</td>\n    </tr>\n    <tr>\n      <th>23</th>\n      <td>1</td>\n      <td>23</td>\n    </tr>\n    <tr>\n      <th>1</th>\n      <td>1</td>\n      <td>1</td>\n    </tr>\n    <tr>\n      <th>12</th>\n      <td>1</td>\n      <td>12</td>\n    </tr>\n    <tr>\n      <th>8</th>\n      <td>1</td>\n      <td>8</td>\n    </tr>\n    <tr>\n      <th>32</th>\n      <td>1</td>\n      <td>32</td>\n    </tr>\n    <tr>\n      <th>to</th>\n      <td>Int64Index([15, 9, 14, 19, 22, 16, 3, 4, 5, 26...</td>\n      <td>to</td>\n    </tr>\n  </tbody>\n</table>\n</div>"
     },
     "execution_count": 17,
     "metadata": {},
     "output_type": "execute_result"
    }
   ],
   "source": [
    "refs_df = pd.DataFrame(net.edges).drop_duplicates()\n",
    "sorted = refs_df.groupby('to').count()['from'].sort_values(ascending=False)\n",
    "sorted['to'] = sorted.index\n",
    "sorted_df = pd.DataFrame(sorted)\n",
    "sorted_df['to'] = sorted_df.index\n",
    "sorted_df.columns = ['count', 'to']\n",
    "sorted_df"
   ],
   "metadata": {
    "collapsed": false
   }
  },
  {
   "cell_type": "code",
   "execution_count": 18,
   "outputs": [],
   "source": [
    "n = 5"
   ],
   "metadata": {
    "collapsed": false
   }
  },
  {
   "cell_type": "code",
   "execution_count": 19,
   "outputs": [
    {
     "name": "stderr",
     "output_type": "stream",
     "text": [
      "C:\\Users\\Radoslav Gajanin\\AppData\\Local\\Temp\\ipykernel_43180\\1217916725.py:2: SettingWithCopyWarning: \n",
      "A value is trying to be set on a copy of a slice from a DataFrame.\n",
      "Try using .loc[row_indexer,col_indexer] = value instead\n",
      "\n",
      "See the caveats in the documentation: https://pandas.pydata.org/pandas-docs/stable/user_guide/indexing.html#returning-a-view-versus-a-copy\n",
      "  top_n['title'] = top_n['to'].apply(lambda x : ok_and_fixed[x])\n"
     ]
    }
   ],
   "source": [
    "top_n = sorted_df[:n]\n",
    "top_n['title'] = top_n['to'].apply(lambda x : ok_and_fixed[x])"
   ],
   "metadata": {
    "collapsed": false
   }
  },
  {
   "cell_type": "code",
   "execution_count": 20,
   "outputs": [
    {
     "data": {
      "text/plain": "   count  to                                              title\nto                                                             \n15     8  15  PARTIES: QoS-Aware Resource Partitioning for M...\n9      5   9  ENSURE: Efficient Scheduling and Autonomous Re...\n14     5  14  CoPart: Coordinated Partitioning of Last-Level...\n19     5  19  Alita: Comprehensive Performance Isolation thr...\n22     4  22  FnSched: An Efficient Scheduler for Serverless...",
      "text/html": "<div>\n<style scoped>\n    .dataframe tbody tr th:only-of-type {\n        vertical-align: middle;\n    }\n\n    .dataframe tbody tr th {\n        vertical-align: top;\n    }\n\n    .dataframe thead th {\n        text-align: right;\n    }\n</style>\n<table border=\"1\" class=\"dataframe\">\n  <thead>\n    <tr style=\"text-align: right;\">\n      <th></th>\n      <th>count</th>\n      <th>to</th>\n      <th>title</th>\n    </tr>\n    <tr>\n      <th>to</th>\n      <th></th>\n      <th></th>\n      <th></th>\n    </tr>\n  </thead>\n  <tbody>\n    <tr>\n      <th>15</th>\n      <td>8</td>\n      <td>15</td>\n      <td>PARTIES: QoS-Aware Resource Partitioning for M...</td>\n    </tr>\n    <tr>\n      <th>9</th>\n      <td>5</td>\n      <td>9</td>\n      <td>ENSURE: Efficient Scheduling and Autonomous Re...</td>\n    </tr>\n    <tr>\n      <th>14</th>\n      <td>5</td>\n      <td>14</td>\n      <td>CoPart: Coordinated Partitioning of Last-Level...</td>\n    </tr>\n    <tr>\n      <th>19</th>\n      <td>5</td>\n      <td>19</td>\n      <td>Alita: Comprehensive Performance Isolation thr...</td>\n    </tr>\n    <tr>\n      <th>22</th>\n      <td>4</td>\n      <td>22</td>\n      <td>FnSched: An Efficient Scheduler for Serverless...</td>\n    </tr>\n  </tbody>\n</table>\n</div>"
     },
     "execution_count": 20,
     "metadata": {},
     "output_type": "execute_result"
    }
   ],
   "source": [
    "top_n"
   ],
   "metadata": {
    "collapsed": false
   }
  }
 ],
 "metadata": {
  "kernelspec": {
   "display_name": "Python 3",
   "language": "python",
   "name": "python3"
  },
  "language_info": {
   "codemirror_mode": {
    "name": "ipython",
    "version": 2
   },
   "file_extension": ".py",
   "mimetype": "text/x-python",
   "name": "python",
   "nbconvert_exporter": "python",
   "pygments_lexer": "ipython2",
   "version": "2.7.6"
  }
 },
 "nbformat": 4,
 "nbformat_minor": 0
}
